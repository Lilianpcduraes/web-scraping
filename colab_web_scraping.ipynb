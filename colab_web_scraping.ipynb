{
  "nbformat": 4,
  "nbformat_minor": 0,
  "metadata": {
    "colab": {
      "provenance": [],
      "authorship_tag": "ABX9TyM4GHgzs8KdIuY0Bc4sPx7m",
      "include_colab_link": true
    },
    "kernelspec": {
      "name": "python3",
      "display_name": "Python 3"
    },
    "language_info": {
      "name": "python"
    }
  },
  "cells": [
    {
      "cell_type": "markdown",
      "metadata": {
        "id": "view-in-github",
        "colab_type": "text"
      },
      "source": [
        "<a href=\"https://colab.research.google.com/github/Lilianpcduraes/web-scraping/blob/main/colab_web_scraping.ipynb\" target=\"_parent\"><img src=\"https://colab.research.google.com/assets/colab-badge.svg\" alt=\"Open In Colab\"/></a>"
      ]
    },
    {
      "cell_type": "code",
      "execution_count": 2,
      "metadata": {
        "colab": {
          "base_uri": "https://localhost:8080/"
        },
        "id": "Z3Hw1uM95rKu",
        "outputId": "8eae7b43-c5a4-4ba2-8324-d9bc4dce95be"
      },
      "outputs": [
        {
          "output_type": "stream",
          "name": "stdout",
          "text": [
            "teste\n"
          ]
        }
      ],
      "source": [
        "print(\"teste\")"
      ]
    },
    {
      "cell_type": "markdown",
      "source": [
        "## Importando Bibliotecas"
      ],
      "metadata": {
        "id": "97aFqdjd_Mab"
      }
    },
    {
      "cell_type": "code",
      "source": [
        "from bs4 import BeautifulSoup as bs\n",
        "import requests as rq\n",
        "import re"
      ],
      "metadata": {
        "id": "OFk-ZMpS_yip"
      },
      "execution_count": 83,
      "outputs": []
    },
    {
      "cell_type": "markdown",
      "source": [
        "## Pegando HTML do Site"
      ],
      "metadata": {
        "id": "RiT8I4p-AXip"
      }
    },
    {
      "cell_type": "code",
      "source": [
        " html_completo = rq.get(\"https://webscraping.andreregino.com.br/\")\n",
        " html_formatado = bs(html_completo.content)## mostra o conteúdo\n",
        " ##print(html_formatado.prettify()) ## o prettify indenta o código."
      ],
      "metadata": {
        "id": "2THOd_SzAnQl"
      },
      "execution_count": 4,
      "outputs": []
    },
    {
      "cell_type": "code",
      "source": [
        "primeiro_h2 = html_formatado.find(\"h2\").text ## encontra apenas um h2, já no find_all encontram todos os h2. Com \"\".text\" aparece apenas o texto.\n",
        "print(primeiro_h2)\n"
      ],
      "metadata": {
        "colab": {
          "base_uri": "https://localhost:8080/"
        },
        "id": "A4_KW5F-F5Sc",
        "outputId": "681ecc22-dd7f-454e-dfe3-6f36fa19421c"
      },
      "execution_count": 5,
      "outputs": [
        {
          "output_type": "stream",
          "name": "stdout",
          "text": [
            "Para que aprender Git?\n"
          ]
        }
      ]
    },
    {
      "cell_type": "code",
      "source": [
        "todas_as_ocorrencias_h2 = html_formatado.find_all([\"h2\", \"h1\"])## usa-se a lista para localizar mais de uma variável\n",
        "for ocorrencia_h2 in todas_as_ocorrencias_h2: ## para percorrer as ocorrências usa-se o for.\n",
        "  print(ocorrencia_h2.text)"
      ],
      "metadata": {
        "colab": {
          "base_uri": "https://localhost:8080/"
        },
        "id": "uhf1QaI3GUgk",
        "outputId": "b50f62dc-89ed-466a-f504-e609f3b02937"
      },
      "execution_count": 6,
      "outputs": [
        {
          "output_type": "stream",
          "name": "stdout",
          "text": [
            "\n",
            "\t\t\t\t\t\t    E-book Git e GitHubSeu Código Versionado\n",
            "\t\t\t\t\t    \n",
            "Para que aprender Git?\n",
            "Para que aprender GitHub?\n",
            "Quais os Benefícios deste E-book?\n",
            "Quais os Tópicos?\n",
            "Quais os Tópicos?\n",
            "Para Quem é Esse Livro\n",
            "Quais os Pré Requisitos\n",
            "Reviews\n",
            "Sobre o Autor\n",
            "Investimento\n",
            "4x de R$9,90\n"
          ]
        }
      ]
    },
    {
      "cell_type": "markdown",
      "source": [
        "## Pegando Conteúdo Usando Classes e IDs"
      ],
      "metadata": {
        "id": "CAq0Y9OTIlQl"
      }
    },
    {
      "cell_type": "code",
      "source": [
        "preco = html_formatado.find_all(class_=\"card-title pricing-card-title\")\n",
        "print(preco)"
      ],
      "metadata": {
        "colab": {
          "base_uri": "https://localhost:8080/"
        },
        "id": "sPzgbn3-It3c",
        "outputId": "d501515f-a645-46e0-e1ac-1fa599d65b97"
      },
      "execution_count": 7,
      "outputs": [
        {
          "output_type": "stream",
          "name": "stdout",
          "text": [
            "[<h1 class=\"card-title pricing-card-title\"><small class=\"text-muted\">4x de </small><span style=\"color: green\">R$9,90</span></h1>]\n"
          ]
        }
      ]
    },
    {
      "cell_type": "code",
      "source": [
        "pre_requisito = html_formatado.find(id=\"pre-requisite-section\")\n",
        "print(pre_requisito)"
      ],
      "metadata": {
        "colab": {
          "base_uri": "https://localhost:8080/"
        },
        "id": "mpNPCwBBXVKn",
        "outputId": "c08e2f44-8a0b-4ec4-8a9f-f330a571a5e8"
      },
      "execution_count": 8,
      "outputs": [
        {
          "output_type": "stream",
          "name": "stdout",
          "text": [
            "<section class=\"pre-requisite-section\" id=\"pre-requisite-section\">\n",
            "<div class=\"container\">\n",
            "<div class=\"lead-form-wrapper single-col-max mx-auto theme-bg-light rounded p-5\">\n",
            "<h2 class=\"form-heading text-center\">Quais os Pré Requisitos</h2>\n",
            "<div class=\"form-intro text-center mb-3\">Nenhum, somente sua vontade de aprender.</div>\n",
            "</div><!--//lead-form-wrapper-->\n",
            "</div><!--//container-->\n",
            "</section>\n"
          ]
        }
      ]
    },
    {
      "cell_type": "markdown",
      "source": [
        "## Pegando Conteúdo com Filtro de Texto"
      ],
      "metadata": {
        "id": "sSCABOCXZGZq"
      }
    },
    {
      "cell_type": "code",
      "source": [
        "todas_as_ocorrencias_h2 = html_formatado.find_all([\"h2\", \"h1\"], text=re.compile(\"Sobre o Autor\")) ## Importar a biblioteca regex que é: re, depois colocá-la dessa forma nesse exemplo. Isso facilitará a busca por padrões sem isso, se a palavra tiver letra maiúscula e voc digita com minuscula não será encontrado.\n",
        "for ocorrencia_h2 in todas_as_ocorrencias_h2:\n",
        "  print(ocorrencia_h2.text)"
      ],
      "metadata": {
        "id": "d32JMW-XZPyo",
        "colab": {
          "base_uri": "https://localhost:8080/"
        },
        "outputId": "094f06c7-c116-4160-bd4d-c93c2087cc19"
      },
      "execution_count": 9,
      "outputs": [
        {
          "output_type": "stream",
          "name": "stdout",
          "text": [
            "Sobre o Autor\n"
          ]
        }
      ]
    },
    {
      "cell_type": "markdown",
      "source": [
        "##Como Pegar Links de Botões e Imagens"
      ],
      "metadata": {
        "id": "omhGP3zbeYXn"
      }
    },
    {
      "cell_type": "code",
      "source": [
        "botao = html_formatado.find(class_=\"price\")\n",
        "print(botao)"
      ],
      "metadata": {
        "colab": {
          "base_uri": "https://localhost:8080/"
        },
        "id": "m8Ry1WHYXEES",
        "outputId": "97a8fc39-9ebc-484c-ee7f-0a6f5e3d23a5"
      },
      "execution_count": 10,
      "outputs": [
        {
          "output_type": "stream",
          "name": "stdout",
          "text": [
            "<section class=\"price py-5\">\n",
            "<div class=\"container\">\n",
            "<h2 class=\"section-heading text-center mb-5\">Investimento</h2>\n",
            "<div class=\"card-deck mb-3 text-center d-flex justify-content-center\">\n",
            "<div class=\"col-12 col-md-4 col-lg-4 card mb-4 box-shadow\">\n",
            "<div class=\"card-header\">\n",
            "<h4 class=\"my-0 font-weight-normal\">Promoção</h4>\n",
            "</div>\n",
            "<div class=\"card-body\">\n",
            "<h3 style=\"color:red\"><s>de R$89,90</s></h3>\n",
            "<h4>por</h4>\n",
            "<h1 class=\"card-title pricing-card-title\"><small class=\"text-muted\">4x de </small><span style=\"color: green\">R$9,90</span></h1>\n",
            "<ul class=\"list-unstyled mt-3 mb-4\">\n",
            "<li>R$1,00 por dia de investimento!</li>\n",
            "<li>60 páginas de conteúdo</li>\n",
            "<li>Segurança na compra</li>\n",
            "<li>Comprou, chegou</li>\n",
            "<li>7 dias de garantia</li>\n",
            "</ul>\n",
            "<div class=\"text-center\"><a class=\"btn btn-primary\" href=\"https://payment.hotmart.com/R54638781B?checkoutMode=10\" style=\"background: green !important;\">Quero Aprender Git e GitHub</a></div>\n",
            "</div>\n",
            "</div>\n",
            "</div>\n",
            "</div>\n",
            "</section>\n"
          ]
        }
      ]
    },
    {
      "cell_type": "code",
      "source": [],
      "metadata": {
        "id": "WIGqkljByHJm"
      },
      "execution_count": null,
      "outputs": []
    },
    {
      "cell_type": "code",
      "source": [
        "botao = html_formatado.find(class_=\"price\").a ## coloca-se a tag \"a\" antecedida por um ponto fora dos parênteses.\n",
        "print(botao['href']) ## para aparecer apenas o link, colocá-se o atributo da tag a dento dos colchetes, nesse caso o href."
      ],
      "metadata": {
        "colab": {
          "base_uri": "https://localhost:8080/"
        },
        "id": "oh6kevlUYcW1",
        "outputId": "fd84fbec-9286-4d38-9666-5ed31f0745a1"
      },
      "execution_count": 11,
      "outputs": [
        {
          "output_type": "stream",
          "name": "stdout",
          "text": [
            "https://payment.hotmart.com/R54638781B?checkoutMode=10\n"
          ]
        }
      ]
    },
    {
      "cell_type": "code",
      "source": [
        "imagem = html_formatado.find('img')## como buscaremos a primeira imagem pode escrever desse jeito: find.\n",
        "print(imagem['src'])"
      ],
      "metadata": {
        "colab": {
          "base_uri": "https://localhost:8080/"
        },
        "id": "u5zMwv1kaWmh",
        "outputId": "619052dc-2128-41f5-887f-b9c701b02c7f"
      },
      "execution_count": 12,
      "outputs": [
        {
          "output_type": "stream",
          "name": "stdout",
          "text": [
            "assets/images/capa-ebook-git-github.png\n"
          ]
        }
      ]
    },
    {
      "cell_type": "markdown",
      "source": [
        "## Pegando os elementos de uma lista - Navegar entre as Tags"
      ],
      "metadata": {
        "id": "Q8Tsebx_hSMT"
      }
    },
    {
      "cell_type": "code",
      "source": [
        "elemento_da_lista = html_formatado.find(\"section\", class_=\"content-section\").ul.li ## pega apenas o primeiro item da lista.\n",
        "print(elemento_da_lista)"
      ],
      "metadata": {
        "colab": {
          "base_uri": "https://localhost:8080/"
        },
        "id": "E-0b04nThoLH",
        "outputId": "fca03eb9-a1a2-46a2-8c86-28815c461d40"
      },
      "execution_count": 13,
      "outputs": [
        {
          "output_type": "stream",
          "name": "stdout",
          "text": [
            "<li><i class=\"fas fa-check-circle mr-2\"></i>Instalação do Git e Criação de Conta no GitHub</li>\n"
          ]
        }
      ]
    },
    {
      "cell_type": "code",
      "source": [
        "quarto_elemento_lista = html_formatado.select(\".content-section ul li:nth-of-type(4)\")\n",
        "print(quarto_elemento_lista)"
      ],
      "metadata": {
        "colab": {
          "base_uri": "https://localhost:8080/"
        },
        "id": "yfgM4_tSjrig",
        "outputId": "7d533093-e1c5-4648-de53-6f5f1ba05b56"
      },
      "execution_count": 14,
      "outputs": [
        {
          "output_type": "stream",
          "name": "stdout",
          "text": [
            "[<li><i class=\"fas fa-check-circle mr-2\"></i>Lidar com Conflitos e Clonar Projetos Públicos</li>]\n"
          ]
        }
      ]
    },
    {
      "cell_type": "markdown",
      "source": [
        "## Coletando Dados da Amazon"
      ],
      "metadata": {
        "id": "8-Pu3Rzy9C2w"
      }
    },
    {
      "cell_type": "code",
      "source": [
        "from bs4 import BeautifulSoup as bs\n",
        "import requests as rq\n",
        "import re"
      ],
      "metadata": {
        "id": "AsLoX1W69N6g"
      },
      "execution_count": 15,
      "outputs": []
    },
    {
      "cell_type": "code",
      "source": [
        "HEADERS = ({'user-agent': 'Mozilla/5.0 (Windows NT 10.0; Win64; x64) AppleWebKit/537.36 (KHTML, like Gecko) Chrome/106.0.0.0 Safari/537.36','Accept-Lang':'en', 'accept-encoding': 'gzip, deflate, br'})## Esse código diz ao site da Amazon de que o user é um navegador, e não um robô. Permitindo, assim as requisições.\n",
        "projeto_amazon = rq.get(\"https://www.amazon.com/Android-TCL-TABMAX-10-4-8000mAh/dp/B0B1TQ3198/ref=sr_1_3_sspa?qid=1667426108&s=computers-intl-ship&sr=1-3-spons&psc=1\", headers=HEADERS)\n",
        "amazon = bs(projeto_amazon.content)"
      ],
      "metadata": {
        "id": "JhCiA5LJ9Y6H"
      },
      "execution_count": 41,
      "outputs": []
    },
    {
      "cell_type": "code",
      "source": [
        "produto = amazon.find(id =\"productTitle\").text.strip() # texto sem os espaços em branco.\n",
        "preco = amazon.find(class_=\"a-offscreen\").getText().strip()\n",
        "avaliacao = amazon.find(class_= \"a-icon-alt\").getText()\n",
        "categoria = amazon.find(class_=\"a-list-item\").text.strip().replace(\"\\n\", \"\")\n",
        "print(\"Nome do produto: \", produto)\n",
        "print(\"preço: \", preco)\n",
        "print(\"Avaliação: \", avaliacao)\n",
        "print(\"Categoria: \",categoria)"
      ],
      "metadata": {
        "id": "Fjadxum5-k87",
        "colab": {
          "base_uri": "https://localhost:8080/"
        },
        "outputId": "070e703c-4abb-4b00-c9be-00a7714e2864"
      },
      "execution_count": 53,
      "outputs": [
        {
          "output_type": "stream",
          "name": "stdout",
          "text": [
            "Nome do produto:  10.36 inch Android Tablet, TCL TABMAX 10.4, 6GB + 256GB (up to 512GB), 8000mAh, FHD+ Display, WiFi Android 11 Tablet, Space Gray\n",
            "preço:  $239.99\n",
            "Avaliação:  4.3 out of 5 stars\n",
            "Categoria:  Electronics\n"
          ]
        }
      ]
    },
    {
      "cell_type": "code",
      "source": [
        "produto = amazon.find(id =\"productTitle\").text.strip() # texto sem os espaços em branco.\n",
        "preco = amazon.find(class_=\"a-offscreen\").getText().strip()\n",
        "avaliacao = amazon.find(class_= \"a-icon-alt\").getText()\n",
        "categoria = amazon.find(id = \"wayfinding-breadcrumbs_feature_div\").text.strip().replace(\"\\n\", \"\")\n",
        "print(\"Nome do produto: \", produto)\n",
        "print(\"preço: \", preco)\n",
        "print(\"Avaliação: \", avaliacao)\n",
        "print(\"Categoria: \",categoria)"
      ],
      "metadata": {
        "colab": {
          "base_uri": "https://localhost:8080/"
        },
        "id": "PgBNaqRs3O6m",
        "outputId": "de88a169-432e-4c98-a27e-c63551ab5d4c"
      },
      "execution_count": 62,
      "outputs": [
        {
          "output_type": "stream",
          "name": "stdout",
          "text": [
            "Nome do produto:  10.36 inch Android Tablet, TCL TABMAX 10.4, 6GB + 256GB (up to 512GB), 8000mAh, FHD+ Display, WiFi Android 11 Tablet, Space Gray\n",
            "preço:  $239.99\n",
            "Avaliação:  4.3 out of 5 stars\n",
            "Categoria:  Electronics                         ›                         Computers & Accessories                         ›                         Computers & Tablets                         ›                          Tablets\n"
          ]
        }
      ]
    }
  ]
}