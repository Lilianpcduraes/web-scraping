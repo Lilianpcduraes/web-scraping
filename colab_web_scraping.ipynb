{
  "nbformat": 4,
  "nbformat_minor": 0,
  "metadata": {
    "colab": {
      "provenance": [],
      "authorship_tag": "ABX9TyN4lXNCO4rRFmBA34k0XZht",
      "include_colab_link": true
    },
    "kernelspec": {
      "name": "python3",
      "display_name": "Python 3"
    },
    "language_info": {
      "name": "python"
    }
  },
  "cells": [
    {
      "cell_type": "markdown",
      "metadata": {
        "id": "view-in-github",
        "colab_type": "text"
      },
      "source": [
        "<a href=\"https://colab.research.google.com/github/Lilianpcduraes/web-scraping/blob/main/colab_web_scraping.ipynb\" target=\"_parent\"><img src=\"https://colab.research.google.com/assets/colab-badge.svg\" alt=\"Open In Colab\"/></a>"
      ]
    },
    {
      "cell_type": "code",
      "execution_count": null,
      "metadata": {
        "colab": {
          "base_uri": "https://localhost:8080/"
        },
        "id": "Z3Hw1uM95rKu",
        "outputId": "50ef2f40-9aa1-4fae-9acb-3165f7e4cd37"
      },
      "outputs": [
        {
          "output_type": "stream",
          "name": "stdout",
          "text": [
            "teste\n"
          ]
        }
      ],
      "source": [
        "print(\"teste\")"
      ]
    },
    {
      "cell_type": "markdown",
      "source": [
        "## Importando Bibliotecas"
      ],
      "metadata": {
        "id": "97aFqdjd_Mab"
      }
    },
    {
      "cell_type": "code",
      "source": [
        "from bs4 import BeautifulSoup as bs\n",
        "import requests as rq\n",
        "import re"
      ],
      "metadata": {
        "id": "OFk-ZMpS_yip"
      },
      "execution_count": null,
      "outputs": []
    },
    {
      "cell_type": "markdown",
      "source": [
        "## Pegando HTML do Site"
      ],
      "metadata": {
        "id": "RiT8I4p-AXip"
      }
    },
    {
      "cell_type": "code",
      "source": [
        " html_completo = rq.get(\"https://webscraping.andreregino.com.br/\")\n",
        " html_formatado = bs(html_completo.content)## mostra o conteúdo\n",
        " ##print(html_formatado.prettify()) ## o prettify indenta o código."
      ],
      "metadata": {
        "id": "2THOd_SzAnQl"
      },
      "execution_count": 55,
      "outputs": []
    },
    {
      "cell_type": "code",
      "source": [
        "primeiro_h2 = html_formatado.find(\"h2\").text ## encontra apenas um h2, já no find_all encontram todos os h2. Com \"\".text\" aparece apenas o texto.\n",
        "print(primeiro_h2)\n"
      ],
      "metadata": {
        "colab": {
          "base_uri": "https://localhost:8080/"
        },
        "id": "A4_KW5F-F5Sc",
        "outputId": "f2d7ba1b-df75-40c6-a37b-1d01acf5ea60"
      },
      "execution_count": 53,
      "outputs": [
        {
          "output_type": "stream",
          "name": "stdout",
          "text": [
            "Para que aprender Git?\n"
          ]
        }
      ]
    },
    {
      "cell_type": "code",
      "source": [
        "todas_as_ocorrencias_h2 = html_formatado.find_all([\"h2\", \"h1\"])## usa-se a lista para localizar mais de uma variável\n",
        "for ocorrencia_h2 in todas_as_ocorrencias_h2: ## para percorrer as ocorrências usa-se o for.\n",
        "  print(ocorrencia_h2.text)"
      ],
      "metadata": {
        "colab": {
          "base_uri": "https://localhost:8080/"
        },
        "id": "uhf1QaI3GUgk",
        "outputId": "dee512a7-499b-4f8f-c2f1-83d3d0e9db6c"
      },
      "execution_count": 54,
      "outputs": [
        {
          "output_type": "stream",
          "name": "stdout",
          "text": [
            "\n",
            "\t\t\t\t\t\t    E-book Git e GitHubSeu Código Versionado\n",
            "\t\t\t\t\t    \n",
            "Para que aprender Git?\n",
            "Para que aprender GitHub?\n",
            "Quais os Benefícios deste E-book?\n",
            "Quais os Tópicos?\n",
            "Quais os Tópicos?\n",
            "Para Quem é Esse Livro\n",
            "Quais os Pré Requisitos\n",
            "Reviews\n",
            "Sobre o Autor\n",
            "Investimento\n",
            "4x de R$9,90\n"
          ]
        }
      ]
    },
    {
      "cell_type": "markdown",
      "source": [
        "## Pegando Conteúdo Usando Classes e IDs"
      ],
      "metadata": {
        "id": "CAq0Y9OTIlQl"
      }
    },
    {
      "cell_type": "code",
      "source": [
        "preco = html_formatado.find_all(class_=\"card-title pricing-card-title\")\n",
        "print(preco)"
      ],
      "metadata": {
        "colab": {
          "base_uri": "https://localhost:8080/"
        },
        "id": "sPzgbn3-It3c",
        "outputId": "edc9463e-f16c-4cab-ed60-57ca30abbe43"
      },
      "execution_count": null,
      "outputs": [
        {
          "output_type": "stream",
          "name": "stdout",
          "text": [
            "[<h1 class=\"card-title pricing-card-title\"><small class=\"text-muted\">4x de </small><span style=\"color: green\">R$9,90</span></h1>]\n"
          ]
        }
      ]
    },
    {
      "cell_type": "code",
      "source": [
        "pre_requisito = html_formatado.find(id=\"pre-requisite-section\")\n",
        "print(pre_requisito)"
      ],
      "metadata": {
        "colab": {
          "base_uri": "https://localhost:8080/"
        },
        "id": "mpNPCwBBXVKn",
        "outputId": "23be9a09-1c87-4a96-a838-a43c708734c6"
      },
      "execution_count": null,
      "outputs": [
        {
          "output_type": "stream",
          "name": "stdout",
          "text": [
            "<section class=\"pre-requisite-section\" id=\"pre-requisite-section\">\n",
            "<div class=\"container\">\n",
            "<div class=\"lead-form-wrapper single-col-max mx-auto theme-bg-light rounded p-5\">\n",
            "<h2 class=\"form-heading text-center\">Quais os Pré Requisitos</h2>\n",
            "<div class=\"form-intro text-center mb-3\">Nenhum, somente sua vontade de aprender.</div>\n",
            "</div><!--//lead-form-wrapper-->\n",
            "</div><!--//container-->\n",
            "</section>\n"
          ]
        }
      ]
    },
    {
      "cell_type": "markdown",
      "source": [
        "## Pegando Conteúdo com Filtro de Texto"
      ],
      "metadata": {
        "id": "sSCABOCXZGZq"
      }
    },
    {
      "cell_type": "code",
      "source": [
        "todas_as_ocorrencias_h2 = html_formatado.find_all([\"h2\", \"h1\"], text=re.compile(\"Sobre o Autor\")) ## Importar a biblioteca regex que é: re, depois colocá-la dessa forma nesse exemplo. Isso facilitará a busca por padrões sem isso, se a palavra tiver letra maiúscula e voc digita com minuscula não será encontrado.\n",
        "for ocorrencia_h2 in todas_as_ocorrencias_h2:\n",
        "  print(ocorrencia_h2.text)"
      ],
      "metadata": {
        "id": "d32JMW-XZPyo"
      },
      "execution_count": null,
      "outputs": []
    },
    {
      "cell_type": "markdown",
      "source": [
        "##Como Pegar Links de Botões e Imagens"
      ],
      "metadata": {
        "id": "omhGP3zbeYXn"
      }
    },
    {
      "cell_type": "code",
      "source": [
        "botao = html_formatado.find(class_=\"price\")\n",
        "print(botao)"
      ],
      "metadata": {
        "colab": {
          "base_uri": "https://localhost:8080/"
        },
        "id": "m8Ry1WHYXEES",
        "outputId": "84f94834-dea5-4692-d9b3-dc23be550de4"
      },
      "execution_count": null,
      "outputs": [
        {
          "output_type": "stream",
          "name": "stdout",
          "text": [
            "<section class=\"price py-5\">\n",
            "<div class=\"container\">\n",
            "<h2 class=\"section-heading text-center mb-5\">Investimento</h2>\n",
            "<div class=\"card-deck mb-3 text-center d-flex justify-content-center\">\n",
            "<div class=\"col-12 col-md-4 col-lg-4 card mb-4 box-shadow\">\n",
            "<div class=\"card-header\">\n",
            "<h4 class=\"my-0 font-weight-normal\">Promoção</h4>\n",
            "</div>\n",
            "<div class=\"card-body\">\n",
            "<h3 style=\"color:red\"><s>de R$89,90</s></h3>\n",
            "<h4>por</h4>\n",
            "<h1 class=\"card-title pricing-card-title\"><small class=\"text-muted\">4x de </small><span style=\"color: green\">R$9,90</span></h1>\n",
            "<ul class=\"list-unstyled mt-3 mb-4\">\n",
            "<li>R$1,00 por dia de investimento!</li>\n",
            "<li>60 páginas de conteúdo</li>\n",
            "<li>Segurança na compra</li>\n",
            "<li>Comprou, chegou</li>\n",
            "<li>7 dias de garantia</li>\n",
            "</ul>\n",
            "<div class=\"text-center\"><a class=\"btn btn-primary\" href=\"https://payment.hotmart.com/R54638781B?checkoutMode=10\" style=\"background: green !important;\">Quero Aprender Git e GitHub</a></div>\n",
            "</div>\n",
            "</div>\n",
            "</div>\n",
            "</div>\n",
            "</section>\n"
          ]
        }
      ]
    },
    {
      "cell_type": "code",
      "source": [],
      "metadata": {
        "id": "WIGqkljByHJm"
      },
      "execution_count": null,
      "outputs": []
    },
    {
      "cell_type": "code",
      "source": [
        "botao = html_formatado.find(class_=\"price\").a ## coloca-se a tag \"a\" antecedida por um ponto fora dos parênteses.\n",
        "print(botao['href']) ## para aparecer apenas o link, colocá-se o atributo da tag a dento dos colchetes, nesse caso o href."
      ],
      "metadata": {
        "colab": {
          "base_uri": "https://localhost:8080/"
        },
        "id": "oh6kevlUYcW1",
        "outputId": "1c2bfac0-15a0-4b69-e7c0-b333df22b060"
      },
      "execution_count": null,
      "outputs": [
        {
          "output_type": "stream",
          "name": "stdout",
          "text": [
            "https://payment.hotmart.com/R54638781B?checkoutMode=10\n"
          ]
        }
      ]
    },
    {
      "cell_type": "code",
      "source": [
        "imagem = html_formatado.find('img')## como buscaremos a primeira imagem pode escrever desse jeito: find.\n",
        "print(imagem['src'])"
      ],
      "metadata": {
        "colab": {
          "base_uri": "https://localhost:8080/"
        },
        "id": "u5zMwv1kaWmh",
        "outputId": "42c64c15-5a67-4262-c2fc-b17f1bbc0ee9"
      },
      "execution_count": null,
      "outputs": [
        {
          "output_type": "stream",
          "name": "stdout",
          "text": [
            "assets/images/capa-ebook-git-github.png\n"
          ]
        }
      ]
    },
    {
      "cell_type": "markdown",
      "source": [
        "## Pegando os elementos de uma lista - Navegar entre as Tags"
      ],
      "metadata": {
        "id": "Q8Tsebx_hSMT"
      }
    },
    {
      "cell_type": "code",
      "source": [
        "elemento_da_lista = html_formatado.find(\"section\", class_=\"content-section\").ul.li ## pega apenas o primeiro item da lista.\n",
        "print(elemento_da_lista)"
      ],
      "metadata": {
        "colab": {
          "base_uri": "https://localhost:8080/"
        },
        "id": "E-0b04nThoLH",
        "outputId": "a2246ebe-f3cf-47cd-b344-cd371027bb81"
      },
      "execution_count": null,
      "outputs": [
        {
          "output_type": "stream",
          "name": "stdout",
          "text": [
            "<li><i class=\"fas fa-check-circle mr-2\"></i>Instalação do Git e Criação de Conta no GitHub</li>\n"
          ]
        }
      ]
    },
    {
      "cell_type": "code",
      "source": [
        "quarto_elemento_lista = html_formatado.select(\".content-section ul li:nth-of-type(4)\")\n",
        "print(quarto_elemento_lista)"
      ],
      "metadata": {
        "colab": {
          "base_uri": "https://localhost:8080/"
        },
        "id": "yfgM4_tSjrig",
        "outputId": "cec1a9f0-0530-45c6-94ec-2b96a6fc01df"
      },
      "execution_count": null,
      "outputs": [
        {
          "output_type": "stream",
          "name": "stdout",
          "text": [
            "[<li><i class=\"fas fa-check-circle mr-2\"></i>Lidar com Conflitos e Clonar Projetos Públicos</li>]\n"
          ]
        }
      ]
    }
  ]
}